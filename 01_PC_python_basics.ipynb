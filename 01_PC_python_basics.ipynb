{
 "cells": [
  {
   "cell_type": "markdown",
   "metadata": {},
   "source": [
    "# **Python Chilla:** Python Basics\n",
    "\n",
    "**Name**: Arsalan Ali<br>\n",
    "**Email**: arslanchaos@gmail.com"
   ]
  },
  {
   "cell_type": "markdown",
   "metadata": {},
   "source": [
    "## Chapter 1: First Program"
   ]
  },
  {
   "cell_type": "code",
   "execution_count": null,
   "metadata": {},
   "outputs": [],
   "source": [
    "print(\"Hello World\")\n",
    "print(\"We are learning Python with Dr.Aammar\")"
   ]
  },
  {
   "cell_type": "markdown",
   "metadata": {},
   "source": [
    "## Chapter 2: Operators"
   ]
  },
  {
   "cell_type": "code",
   "execution_count": null,
   "metadata": {},
   "outputs": [],
   "source": [
    " #PEMDAS Left to Right Order\n",
    "print(2+3)\n",
    "print(2-3)\n",
    "print(2*3)\n",
    "print(2/3)\n",
    "print(2//3)\n",
    "print(2%3)\n",
    "print(2**3)\n",
    "print(2**3//4*5+6+7)"
   ]
  },
  {
   "cell_type": "markdown",
   "metadata": {},
   "source": [
    "## Chapter 3: Strings"
   ]
  },
  {
   "cell_type": "code",
   "execution_count": null,
   "metadata": {},
   "outputs": [],
   "source": [
    "print('Test for single quote')\n",
    "print(\"Test for double quotes\") # Commonly used. We can use apostrophe in sentences with it\n",
    "print('''Test \n",
    "for \n",
    "three \n",
    "quotes''') # For Paragraphs."
   ]
  },
  {
   "cell_type": "markdown",
   "metadata": {},
   "source": [
    "## Chapter 4: Comments"
   ]
  },
  {
   "cell_type": "code",
   "execution_count": null,
   "metadata": {},
   "outputs": [],
   "source": [
    "print(\"How are you?\") # Press Ctrl+/ to turn a line of code into comment\n",
    "print(\"We are learning Python with Dr.Aammar\") # Comments are used to add instructions/purpose of code"
   ]
  },
  {
   "cell_type": "markdown",
   "metadata": {},
   "source": [
    "## Chapter 5: Variables"
   ]
  },
  {
   "cell_type": "code",
   "execution_count": null,
   "metadata": {},
   "outputs": [],
   "source": [
    "# Variables store values within them of different datatypes\n",
    "\n",
    "x = 5 # Numeric / Integer variable\n",
    "print(x)\n",
    "\n",
    "y = \"What a lovely night!\" # String variable\n",
    "print(y)\n",
    "\n",
    "# Type/class of a variable\n",
    "print(type(x))\n",
    "print(type(y))\n",
    "\n",
    "#print_type_class\n",
    "\n",
    "# Rules for declare a variable\n",
    "\n",
    "# 1- Should contain letters, numbers or underscores\n",
    "# 2- Don't start with numbers\n",
    "# 3- Don't use spaces\n",
    "# 4- Don't use reserved keywords of python\n",
    "# 5- Short and descriptive\n",
    "# 6- Case sensitivity (use lowercase)\n",
    "\n",
    "fruit_basket = 8\n",
    "fruit_basket = \"Mangoes\"\n",
    "print(type(fruit_basket))\n",
    "print(fruit_basket)"
   ]
  },
  {
   "cell_type": "markdown",
   "metadata": {},
   "source": [
    "## Chapter 6: Input Variables"
   ]
  },
  {
   "cell_type": "code",
   "execution_count": null,
   "metadata": {},
   "outputs": [],
   "source": [
    "# Input fuction 1.0\n",
    "fruit_basket = input(\"What is your favorite dish? \")\n",
    "print(fruit_basket)\n",
    "\n",
    "# Input function 2.0\n",
    "name = input(\"What's your name lad? \")\n",
    "greetings = \"Greetings!\"\n",
    "print(greetings, name)\n",
    "\n",
    "# Input function 2.1\n",
    "name = input(\"What's your name lad? \")\n",
    "print(\"Howdy!\", name)\n",
    "\n",
    "# Input function 3.1\n",
    "name = input(\"Your name? \")\n",
    "age = input(\"Your age? \")\n",
    "print(\"Hello\", name, \", You're quite old!\")\n",
    "\n",
    "#input_aammar You're still young"
   ]
  },
  {
   "cell_type": "markdown",
   "metadata": {},
   "source": [
    "## Chapter 7: Conditional Logic"
   ]
  },
  {
   "cell_type": "code",
   "execution_count": null,
   "metadata": {},
   "outputs": [],
   "source": [
    "# Logical operators are either TRUE or FALSE\n",
    "\n",
    "# equal                     =\n",
    "# not equal                 !=\n",
    "# less than                 <\n",
    "# greater than              >\n",
    "# less than and equal       <=\n",
    "# greater than and equal    >=\n",
    "\n",
    "print(4==4)  \n",
    "print(4!=4)  \n",
    "print(4>3)  \n",
    "print(4<3)  \n",
    "print(4>=3)  \n",
    "print(4<=3)  \n",
    "\n",
    "# application of logical operators\n",
    "age_at_school = 5\n",
    "student_age = int(input(\"How old is student? \")) # Input function\n",
    "print(age_at_school==student_age) # Logical operation\n",
    "\n",
    "# convert input"
   ]
  },
  {
   "cell_type": "markdown",
   "metadata": {},
   "source": [
    "## Chapter 8: Type Conversion"
   ]
  },
  {
   "cell_type": "code",
   "execution_count": null,
   "metadata": {},
   "outputs": [],
   "source": [
    "x = 10\n",
    "y = 10.2\n",
    "z = \"Yo\"\n",
    "\n",
    "# Implicit type conversion\n",
    "x = x + y \n",
    "print(x,\" The type of x is: \", type(x))\n",
    "\n",
    "# Explicit type conversion\n",
    "age = input(\"Your age is? \")\n",
    "print(age, \" Type of your age is: \", type(int(age)))\n",
    "\n",
    "# type conversion"
   ]
  },
  {
   "cell_type": "markdown",
   "metadata": {},
   "source": [
    "## Chapter 9: If else and elif"
   ]
  },
  {
   "cell_type": "code",
   "execution_count": null,
   "metadata": {},
   "outputs": [],
   "source": [
    "student_age = int(input(\"Enter student age: \"))\n",
    "school_age_restriction = 5\n",
    "\n",
    "if student_age==school_age_restriction:\n",
    "    print(\"Congrats! Student can join the school\")\n",
    "elif student_age<=4:\n",
    "    print(\"Take care of student at home\")\n",
    "elif student_age>=15:\n",
    "    print(\"Admit student to a College or a University\")\n",
    "else:\n",
    "    print(\"Don't bother admitting student anywhere\")\n",
    "\n",
    "# if,elif,else statement clear"
   ]
  },
  {
   "cell_type": "markdown",
   "metadata": {},
   "source": [
    "## Chapter 10: Functions"
   ]
  },
  {
   "cell_type": "code",
   "execution_count": null,
   "metadata": {},
   "outputs": [],
   "source": [
    "def school_cal(age):\n",
    "    if age==5:\n",
    "        print(\"Student can join the school\")\n",
    "    elif age>5:\n",
    "        print(\"Admit student in a college or a univeristiy\")\n",
    "    else:\n",
    "        print(\"Don't bother with anything\")\n",
    "\n",
    "school_cal(6)\n",
    "\n",
    "\n",
    "\n",
    "def future_age(age):\n",
    "    new_age = age + 20\n",
    "    return new_age\n",
    "\n",
    "print(future_age(18))\n",
    "\n",
    "# I understand functions really well"
   ]
  },
  {
   "cell_type": "markdown",
   "metadata": {},
   "source": [
    "## Chapter 11: Loops"
   ]
  },
  {
   "cell_type": "code",
   "execution_count": null,
   "metadata": {},
   "outputs": [],
   "source": [
    "# While loop\n",
    "x = 0\n",
    "while x<=5:\n",
    "    print(x)\n",
    "    x = x+1\n",
    "\n",
    "# For loop using a list\n",
    "days = [\"Mon\", \"Tue\", \"Wed\", \"Thu\", \"Fri\", \"Sat\", \"Sun\"]\n",
    "\n",
    "for day in days:\n",
    "    if (day==\"Fri\"): break #Break the entire Loop on that Day\n",
    "    if (day==\"Fri\"): continue #Skips the Day and continues with the rest\n",
    "    print(day)"
   ]
  },
  {
   "cell_type": "markdown",
   "metadata": {},
   "source": [
    "## Chapter 12: Libraries"
   ]
  },
  {
   "cell_type": "code",
   "execution_count": null,
   "metadata": {},
   "outputs": [],
   "source": [
    "import math\n",
    "import statistics\n",
    "\n",
    "pi = math.pi\n",
    "print(pi)\n",
    "\n",
    "x = [150,250,350,450]\n",
    "print(statistics.mean(x))\n",
    "\n",
    "# Import Libs: Numpy, Pandas"
   ]
  },
  {
   "cell_type": "markdown",
   "metadata": {},
   "source": [
    "## Chapter 13: Troubleshooting"
   ]
  },
  {
   "cell_type": "code",
   "execution_count": null,
   "metadata": {},
   "outputs": [],
   "source": [
    "#Syntax Error\n",
    "# print(we are learning python with Aammar)\n",
    "\n",
    "#Runtime Error:(Logical Error)\n",
    "# print(25/0)\n",
    "\n",
    "#Symantic Error\n",
    "# name = \"Arsalan\"\n",
    "# print(\"Hello! name\")\n",
    "\n",
    "#troubleshooting is easy"
   ]
  },
  {
   "cell_type": "markdown",
   "metadata": {},
   "source": [
    "## Chapter 14: Indexing"
   ]
  },
  {
   "cell_type": "code",
   "execution_count": null,
   "metadata": {},
   "outputs": [],
   "source": [
    "my_string = \"Samosa Pakora\"\n",
    "print(f\"Indexing using a single number: \",my_string[0])\n",
    "print(f\"Indexing using a range of positive numbers: \",my_string[0:6])\n",
    "print(f\"Indexing using a range of negative and positive numbers: \",my_string[-6:13])"
   ]
  },
  {
   "cell_type": "markdown",
   "metadata": {},
   "source": [
    "## Chapter 15: String Methods"
   ]
  },
  {
   "cell_type": "code",
   "execution_count": null,
   "metadata": {},
   "outputs": [],
   "source": [
    "food = \"I love biryani,samosa and gol gappay\"\n",
    "\n",
    "# Checking length of a string\n",
    "print(len(food))\n",
    "\n",
    "# Capitalizing first words\n",
    "print(food.capitalize())\n",
    "\n",
    "# Capitalizing all words\n",
    "print(food.upper())\n",
    "\n",
    "# Lowering all words\n",
    "print(food.lower())\n",
    "\n",
    "# Replacing characters\n",
    "print(food.replace(\"b\", \"sh\"))\n",
    "\n",
    "# Counting the number of times a character appeared\n",
    "print(food.count(\"i\"))\n",
    "\n",
    "# Find the position of a character\n",
    "print(food.find(\"n\"))\n",
    "\n",
    "# Splitting the entire string based on comma ,\n",
    "print(food.split(\",\"))"
   ]
  },
  {
   "cell_type": "markdown",
   "metadata": {},
   "source": [
    "## Chapter 16: Data Structures"
   ]
  },
  {
   "cell_type": "markdown",
   "metadata": {},
   "source": [
    "### Basic data structures in Python\n",
    "**1- Tuple**\n",
    "\n",
    "**2- List**\n",
    "\n",
    "**3- Dictionary**\n",
    "\n",
    "**4- Set**"
   ]
  },
  {
   "cell_type": "markdown",
   "metadata": {},
   "source": [
    "### 1- Tuple\n",
    "* Ordered collection of elements\n",
    "* Enclosed in round brackets / paranthesis\n",
    "* Different kind of elements can be stored\n",
    "* It can't be changed once created. It's immutable"
   ]
  },
  {
   "cell_type": "code",
   "execution_count": null,
   "metadata": {},
   "outputs": [],
   "source": [
    "tup1 = (2, \"Python\", True, 2.5)\n",
    "print(tup1)\n",
    "\n",
    "# Concatination\n",
    "print(tup1 + tup1)\n",
    "\n",
    "# Repitition\n",
    "print(tup1*3)\n",
    "\n",
    "# Length \n",
    "print(len(tup1))\n",
    "\n",
    "# Min and Max\n",
    "tup2 = (1,2,3,4,5,6,7,8,9)\n",
    "print(min(tup2), max(tup2))\n",
    "\n",
    "# Indexing\n",
    "print(tup2[0:3])\n",
    "\n",
    "# Counts the number of times an element occured \n",
    "tup3 = (1,1,2,2,3,3,4,4,4,4)\n",
    "print(tup3.count(4))\n",
    "\n",
    "# Tells position of the element\n",
    "print(tup3.index(4))"
   ]
  },
  {
   "cell_type": "markdown",
   "metadata": {},
   "source": [
    "### 2- List\n",
    "* Ordered collection of elements\n",
    "* Enclosed in [ ] square brakcets\n",
    "* Mutable"
   ]
  },
  {
   "cell_type": "code",
   "execution_count": null,
   "metadata": {},
   "outputs": [],
   "source": [
    "list1 = [\"Samosa\", 5, False]\n",
    "list2 = [\"Chips\", 12, True]\n",
    "list3 = [1,2,3,4,5,6,7]\n",
    "\n",
    "# Concatination\n",
    "print(list1 + list2)\n",
    "\n",
    "# Repitition\n",
    "print(list1*2)\n",
    "\n",
    "# Add an element in list\n",
    "list3.append(8)\n",
    "print(list3)\n",
    "\n",
    "# Remove all elements from list\n",
    "list3.clear()\n",
    "print(list3)\n",
    "\n",
    "# Create a new copy of list\n",
    "list4 = list3.copy()\n",
    "list4.append(8)\n",
    "print(list4)\n",
    "\n",
    "# Count the number of times an element occured in a list\n",
    "print(list4.count(8))\n",
    "\n",
    "# Insert another list in the existing list\n",
    "list4.extend(list1)\n",
    "print(list4)\n",
    "\n",
    "# Find the position of an element in the list\n",
    "print(list4.index(\"Samosa\"))\n",
    "\n",
    "# Add an element in list in a certain Index\n",
    "list4.insert(9, 9)\n",
    "print(list4)\n",
    "\n",
    "# Remove and return an element based on index\n",
    "pop = list4.pop(1)\n",
    "print(list4)\n",
    "\n",
    "# Remove an element from the list\n",
    "list4.remove(False)\n",
    "print(list4)\n",
    "\n",
    "# Reverse the positions of all elements in the list\n",
    "list4.reverse()\n",
    "print(list4)\n",
    "\n",
    "# Sort the list in asc/des order\n",
    "list5 = [5,7,2,1,3,8]\n",
    "list5.sort()\n",
    "print(list5)"
   ]
  },
  {
   "cell_type": "markdown",
   "metadata": {},
   "source": [
    "### 3- Dictionary\n",
    "* Ordered collection of elements\n",
    "* Works with 'KEY' and 'VALUE'\n",
    "* Curly braces {} are used\n",
    "* Mutable"
   ]
  },
  {
   "cell_type": "code",
   "execution_count": null,
   "metadata": {},
   "outputs": [],
   "source": [
    "# Food and their values\n",
    "food1 = {\"Samosa\": 55, \"Pakora\": 150, \"Raita\": 30, \"Salad\": 50}\n",
    "food2 = {\"Dates\":50, \"Surf Excel\": 150}\n",
    "print(food1)\n",
    "\n",
    "# Checking the type of a variable\n",
    "print(type(food1))\n",
    "\n",
    "# Get KEYS of a dict\n",
    "keys = food1.keys()\n",
    "print(keys)\n",
    "\n",
    "# Get VALUES of a dict\n",
    "values = food1.values()\n",
    "print(values)\n",
    "\n",
    "# Add a new key:value in dict\n",
    "food1[\"Tikki\"] = 10\n",
    "print(food1)\n",
    "\n",
    "# Modfiying the value of a key\n",
    "food1[\"Tikki\"] = 15\n",
    "print(food1)\n",
    "\n",
    "# Add another dict into the already existing dict\n",
    "food1.update(food2)\n",
    "print(food1)\n",
    "\n",
    "# Remove all keys:values from a dict\n",
    "food2.clear()\n",
    "print(food2)\n",
    "\n",
    "# Creating a new copy of the dict\n",
    "food2 = {\"Dates\":50, \"Surf Excel\": 150}\n",
    "food3 = food2.copy()\n",
    "print(food3)\n",
    "\n",
    "# Create a new dict from external keys and values\n",
    "food4 = {}\n",
    "food4 = dict.fromkeys(keys,values)\n",
    "print(food4)\n",
    "\n",
    "# Get value from a dict using the key\n",
    "print(food3.get('Dates'))\n",
    "\n",
    "# Get all key:value pairs of a dict\n",
    "print(food3.items())\n",
    "\n",
    "# Get all keys from a dict\n",
    "print(food3.keys())\n",
    "\n",
    "# Remove and return a value of a key\n",
    "pop = food3.pop('Dates')\n",
    "print(pop,food3)\n",
    "\n",
    "# Get all values from a dict\n",
    "print(food3.values())"
   ]
  },
  {
   "cell_type": "markdown",
   "metadata": {},
   "source": [
    "### 4- Set\n",
    "* Unordered and Un-indexed\n",
    "* Written with curly braces {}\n",
    "* Duplicates not allowed\n",
    "* Ignores Boolean values"
   ]
  },
  {
   "cell_type": "code",
   "execution_count": null,
   "metadata": {},
   "outputs": [],
   "source": [
    "set1 = {1,2,3.5,\"Arsalan\", True}\n",
    "print(set1)\n",
    "\n",
    "# Adds an element in the set\n",
    "set1.add(\"Ali\")\n",
    "print(set1)\n",
    "\n",
    "# Removes all the elements\n",
    "set1.clear()\n",
    "print(set1)\n",
    "\n",
    "# Creates a new copy of the set\n",
    "set2 = set1.copy()\n",
    "print(set2)\n",
    "\n",
    "# Finds the diff of the two sets\n",
    "print(set2.difference(set1))\n",
    "\n",
    "# Sets the value of the diff as the only value of the first set\n",
    "set2.difference_update(set1)\n",
    "print(set1, set2)\n",
    "\n",
    "# Removes the given element\n",
    "set2.discard('Ali')\n",
    "print(set2)\n",
    "\n",
    "# Finds the intersection\n",
    "set3 = {\"Hello\", 1}\n",
    "print(set2.intersection(set3))\n",
    "\n",
    "# Sets the value of first set as the intersection of the two sets\n",
    "set2.intersection_update(set3)\n",
    "print(set2)\n",
    "\n",
    "# Checks if the two sets contain not a single similiar element\n",
    "print(set2.isdisjoint(set3))\n",
    "\n",
    "# Checks if first set is a subset of second set\n",
    "print(set2.issubset(set1))\n",
    "\n",
    "# Removes the element and returns it. We can store that removed element in another variable\n",
    "set2 = {1, 2, 3.5, 'Ali', 'Arsalan'}\n",
    "set2.pop()\n",
    "print(set2)\n",
    "\n",
    "# Removes the elements completely\n",
    "set2.remove(3.5)\n",
    "print(set2)\n",
    "\n",
    "# Finds the sym-diff of the two sets\n",
    "sem_set = set2.symmetric_difference(set1)\n",
    "print(sem_set)\n",
    "\n",
    "# Sets the value of the sym-diff as the only value of the set\n",
    "set2.symmetric_difference_update(set1)\n",
    "print(set2)\n",
    "\n",
    "# Merges the two groups\n",
    "set_a = {1,2,3}\n",
    "set_b = {4,5,6}\n",
    "print(set_a.union(set_b))\n",
    "\n",
    "# Joins the two groups\n",
    "set2.update(set3)\n",
    "print(set2)"
   ]
  },
  {
   "cell_type": "markdown",
   "metadata": {},
   "source": [
    "## Chapter 17: Examples"
   ]
  },
  {
   "cell_type": "markdown",
   "metadata": {},
   "source": [
    "### BMI Calculator\n",
    "* Weight\n",
    "* Height\n",
    "* Age\n",
    "* Calculate BMI"
   ]
  },
  {
   "cell_type": "code",
   "execution_count": null,
   "metadata": {},
   "outputs": [],
   "source": [
    "name = input(\"Your name: \")\n",
    "weight = int(input(\"Your weight(kg): \"))\n",
    "height = float(input(\"Your height(m): \"))\n",
    "age = int(input(\"Your age: \"))\n",
    "BMI = weight/height**2\n",
    "print(f\"Hi, {name}! your age is {age} with BMI: {BMI}\")"
   ]
  },
  {
   "cell_type": "markdown",
   "metadata": {},
   "source": [
    "## Chapter 18: Numpy"
   ]
  },
  {
   "cell_type": "code",
   "execution_count": null,
   "metadata": {},
   "outputs": [],
   "source": [
    "import numpy as np\n",
    "\n",
    "# Creating 1-D array\n",
    "arr1 = np.array([5,5,5,])\n",
    "print(arr1)\n",
    "\n",
    "# Checking type of the array\n",
    "print(type(arr1))\n",
    "\n",
    "# Creating 2-D array\n",
    "arr2 = np.array([\n",
    "    [1,2,3],\n",
    "    [4,5,6],\n",
    "    [7,8,9]\n",
    "])\n",
    "print(arr2)\n",
    "\n",
    "# Creating 1-D array of ones\n",
    "arr3 = np.ones(3)\n",
    "print(arr3)\n",
    "\n",
    "# Creating 1-D array of zeroes\n",
    "arr4 = np.zeros(4)\n",
    "print(arr4)\n",
    "\n",
    "# Checking Average of an array of int/flot\n",
    "arr_new = np.array([2,4,6,8,10])\n",
    "print(arr_new.mean())\n",
    "\n",
    "# Creating 2-D array of empty/random values\n",
    "arr5 = np.empty([3,2])\n",
    "print(arr5)\n",
    "\n",
    "# Creating an array of desired range\n",
    "arr6 = np.arange(5)\n",
    "print(arr6)\n",
    "\n",
    "# Creating an array of desired interval (start and stop)\n",
    "arr7 = np.arange(5,10)\n",
    "print(arr7)\n",
    "\n",
    "# Creating an array of desried interval and steps (start, stop, step)\n",
    "arr8 = np.arange(5,20,2)\n",
    "print(arr8)\n",
    "\n",
    "# Creating an array of desired interval with specific number of values\n",
    "arr9 = np.linspace(2,10,num=5)\n",
    "print(arr9)\n",
    "\n",
    "# Specific data types in an array\n",
    "arr10 = np.ones(5, dtype=\"float64\")\n",
    "print(arr10, arr10.dtype)\n",
    "\n",
    "# Creating a 2-D array using Reshape\n",
    "arr11 = np.arange(9).reshape(3,3)\n",
    "print(arr11)\n",
    "\n",
    "# Creating a 3-D array using Reshape\n",
    "arr12 = np.arange(12).reshape(2,3,2)\n",
    "print(arr12)\n",
    "\n",
    "# Creating a 4-D array using Reshape\n",
    "arr13 = np.arange(24).reshape(2,2,3,2)\n",
    "print(arr13)\n",
    "\n",
    "# Array Sorting\n",
    "a = np.array([2,66,7.8,12,90,164,567,3,9])\n",
    "a.sort()\n",
    "print(a)\n",
    "\n",
    "# Random Integer Array with 10 numbers only\n",
    "a = np.random.randint(10,size=10)\n",
    "b = np.random.randint(200,size=10)\n",
    "print(b)\n",
    "\n",
    "# Array concatination\n",
    "c = np.concatenate((a,b))\n",
    "print(c)\n",
    "\n",
    "# Checking dimension(axis), size(number of elements) and shape(structure) of an array\n",
    "arr11 = np.arange(9).reshape(3,3)\n",
    "arr12 = np.arange(12).reshape(2,3,2)\n",
    "print(arr11.ndim, arr11.size, arr11.shape)\n",
    "print(arr12.ndim, arr12.size, arr12.shape)\n",
    "\n",
    "# Reshaping \n",
    "arr12_new = np.reshape(arr12, newshape=(3,4))\n",
    "print(arr12_new)\n",
    "\n",
    "# Dimension covnersion 1-D to 2-D\n",
    "a = np.array([1,2,3,4])\n",
    "b = a[np.newaxis, :]\n",
    "c = a[:, np.newaxis]\n",
    "print(b)\n",
    "print(b.shape)\n",
    "print(c)\n",
    "print(c.shape)"
   ]
  },
  {
   "cell_type": "markdown",
   "metadata": {},
   "source": [
    "## Chapter 19: Pandas"
   ]
  },
  {
   "cell_type": "code",
   "execution_count": null,
   "metadata": {},
   "outputs": [],
   "source": [
    "import pandas as pd\n",
    "\n",
    "# Pandas series (Arrays)\n",
    "s = pd.Series([1,3,5,7,9])\n",
    "print(s)\n",
    "\n",
    "# Dates in Pandas\n",
    "dates = pd.date_range(\"20220101\", periods=20)\n",
    "print(dates)\n",
    "\n",
    "# Dataframe\n",
    "import numpy as np\n",
    "df = pd.DataFrame(np.random.randn(20,4), index=dates, columns=list(\"ABCD\"))\n",
    "print(df)\n",
    "\n",
    "# Creating Dataframe through a Dictionary\n",
    "my_dict = {\n",
    "    \"A\": 1.0,\n",
    "    \"B\": pd.Timestamp(\"20220101\"),\n",
    "    \"C\": pd.Series(1, index=list(range(4)),dtype=\"float64\"),\n",
    "    \"D\": np.array([3]*4, dtype=\"int32\"),\n",
    "    \"E\": pd.Categorical([\"girl\",\"woman\",\"lady\",\"larki\"]),\n",
    "    \"F\": \"females\"\n",
    "}\n",
    "df2 = pd.DataFrame(my_dict)\n",
    "print(df2)\n",
    "\n",
    "# Check the Datatypes of a Dataframe\n",
    "print(df2.dtypes)\n",
    "\n",
    "# Check the indices of a Dataframe\n",
    "print(df2.index)\n",
    "\n",
    "# Show only initial rows\n",
    "print(df2.head(2))\n",
    "\n",
    "# Show only last rows\n",
    "print(df2.tail(2))\n",
    "\n",
    "# Convert Dataframe into a Numpy Array\n",
    "print(df.to_numpy())\n",
    "\n",
    "# Show descriptive Statistics\n",
    "print(df.describe())\n",
    "\n",
    "# Transpose of a Dataframe\n",
    "print(df2.T)\n",
    "\n",
    "# Sorting of a Dataframe\n",
    "df.sort_index(axis=1, ascending=True)\n",
    "print(df)\n",
    "\n",
    "# Any number of rows selection\n",
    "print(df[0:4]) # df.iloc[0:4] iloc is used to get values from index\n",
    "\n",
    "# Specific row selection\n",
    "print(df.loc[\"2022-01-01\"]) # loc is used to get values using names\n",
    "\n",
    "# All rows and single column selection\n",
    "print(df.loc[:][\"A\"]) #OR df.iloc[:][\"A\"]\n",
    "\n",
    "# Specific row by using the name of the index\n",
    "print(df.loc[\"20220101\"]) #OR df.loc[dates[0]]\n",
    "\n",
    "# All rows with multiple columns selection\n",
    "print(df.loc[:,[\"A\", \"B\"]]) #OR df.loc[:][[\"A\",\"B\"]] OR df.iloc[:,[0, 1]]\n",
    "\n",
    "# Specific range of rows and specific columns selection\n",
    "print(df.loc[\"20220101\":\"20220104\",[\"A\", \"B\"]]) #OR df.iloc[0:4,[0,1]]\n",
    "\n",
    "# Specific rows with specific columns selection\n",
    "print(df.loc[[\"20220101\",\"20220104\"],[\"A\",\"B\"]])\n",
    "\n",
    "# Get a single value only \n",
    "print(df.at[\"2022-01-01T00:00:00.000Z\",\"A\"]) #OR df.at[dates[0],\"A\"]\n",
    "\n",
    "# Data filteration using Booleans\n",
    "print(df[df[\"A\"]>1][\"A\"]) # Dataframe mai wo rows lo jin mai A ki value > 1 ho aur phir sirf A columns sy related wo rows display krwao\n",
    "\n",
    "# B and C ki wo rows lao jo > 0 hon aur phir sirf B and C columns sy related wo rows display krwao\n",
    "print(df[df[[\"B\",\"C\"]]>0][[\"B\",\"C\"]])\n",
    "\n",
    "# Show all values greater than 0 in the Dataframe\n",
    "print(df[df>0])\n",
    "\n",
    "# Copy a Dataframe into another one\n",
    "df3 = df.copy()\n",
    "\n",
    "#A,B,C,D columns ka average 1 new columns mai ajaye\n",
    "df3[\"Average\"] = df3[[\"A\", \"B\", \"C\", \"D\"]].mean(axis=1)\n",
    "print(df3)"
   ]
  },
  {
   "cell_type": "markdown",
   "metadata": {},
   "source": [
    "## Chapter 19: Visualization"
   ]
  },
  {
   "cell_type": "markdown",
   "metadata": {},
   "source": [
    "### We will use two libraries for two Data Visualization:\n",
    "* Matplotlib\n",
    "* Seaborn"
   ]
  },
  {
   "cell_type": "markdown",
   "metadata": {},
   "source": [
    "### Line Plot and Bar Plot"
   ]
  },
  {
   "cell_type": "code",
   "execution_count": null,
   "metadata": {},
   "outputs": [],
   "source": [
    "import matplotlib.pyplot as plt\n",
    "import seaborn as sns\n",
    "import scipy as sc\n",
    "import pandas as pd\n",
    "\n",
    "# Loading dataset for LINE PLOT\n",
    "phool = sns.load_dataset(\"iris\")\n",
    "# Setting figure size\n",
    "plt.figure(figsize=(8,4))\n",
    "# DRAW LINE PLOT\n",
    "sns.lineplot(x=\"sepal_length\", y=\"sepal_width\", data=phool)\n",
    "# Adding titles\n",
    "plt.title(\"Phoolon ka LINE PLOT\")\n",
    "# Setting limit of X-axis\n",
    "plt.xlim(2)\n",
    "# Setting limit of Y-axis\n",
    "plt.ylim(1)\n",
    "# Setting style to none so we can easily overwrite style afterwards\n",
    "sns.set_style(style=None, rc=None)\n",
    "# Setting style of plot\n",
    "sns.set_style(\"dark\") # The values can be \"darkgrid, whitegrid, dark, white, ticks\"\n",
    "plt.show()\n",
    "#//////////////////////////////////////////////////////////////////////\n",
    "\n",
    "# Loading dataset for BAR PLOT\n",
    "kashti = sns.load_dataset(\"titanic\")\n",
    "\n",
    "# DRAW BAR PLOT\n",
    "# The hue creates grouping\n",
    "# Order changes the positions of categroies in X-axis\n",
    "# Palette is used to change colors as in combinations. The values can be \"Spectral\" etc\n",
    "# Color is used to change the overall colors to a single color's variations e.g \"Red\" etc\n",
    "# Ci (confidence interval)...We can remove errors on bars by setting ci as None\n",
    "\n",
    "sns.barplot(x=\"who\", y=\"survived\", hue=\"sex\", order=[\"child\", \"woman\", \"man\"], ci = None, palette=\"Spectral\", data=kashti)\n",
    "\n",
    "#------------------------------------------\n",
    "\n",
    "\n",
    "# BAR PLOT with Numeric X variable\n",
    "# Estimator can be mean, median, mode\n",
    "# Saturation changes the intensity of the colors\n",
    "\n",
    "# sns.barplot(x=\"survived\", y=\"fare\" , hue=\"sex\", estimator=np.mean, palette=\"Spectral\", saturation = 1, data=kashti)\n",
    "\n",
    "#------------------------------------------\n",
    "\n",
    "# BAR PLOT WITH CUSTOM LINE WIDTH AND COLORS\n",
    "# linewidth jo hy wo bars ki lines ki width hy\n",
    "# facecolor bars ky andar ka color hy. Iski values RGBA hngi e.g, Red/255,Green/255,Blue/255, Alpha/255\n",
    "# errorcolor jo hy wo error wali lines ky colors ko change krta hy\n",
    "# edgecolor hmari lines ky borders ky color ko change krta hy\n",
    "\n",
    "# sns.barplot(x=\"class\", y=\"fare\",\n",
    "#             linewidth = 2.5, facecolor=(50/255,100/255,100/255,0.5),\n",
    "#             errcolor=\"0.5\", edgecolor=\"0\",\n",
    "#             data=kashti)\n",
    "\n",
    "# Adding titles\n",
    "plt.title(\"Titanic ka BAR PLOT\")\n",
    "\n",
    "# To make Horizontal Bar plots we can exchange X and Y to do so\n"
   ]
  },
  {
   "cell_type": "markdown",
   "metadata": {},
   "source": [
    "### Box plot"
   ]
  },
  {
   "cell_type": "code",
   "execution_count": null,
   "metadata": {},
   "outputs": [],
   "source": [
    "import seaborn as sns\n",
    "import matplotlib.pyplot as plt\n",
    "\n",
    "# Import dataset\n",
    "tip = sns.load_dataset(\"tips\")\n",
    "\n",
    "# DRAW BOX PLOT\n",
    "# doge ko True krny sy categories ki overlapping hgi False krny sy nhi hgi\n",
    "# color argument wohi pehle wala use kr sktay hain\n",
    "# orient ky argument sy hum iski orientation change kr sktay hn Horizontal to Vertical etc\n",
    "\n",
    "# sns.set_style(style=\"whitegrid\")\n",
    "# sns.boxplot(x=\"tip\", y=\"day\", \n",
    "#             hue=\"smoker\",\n",
    "#             palette=\"Set2\",\n",
    "#             dodge=True,\n",
    "#             data=tip)\n",
    "\n",
    "# # Adding titles\n",
    "# plt.title(\"Total Bill\")\n",
    "\n",
    "#-------------------------------------------\n",
    "\n",
    "# Import dataset\n",
    "kashti = sns.load_dataset(\"titanic\")\n",
    "\n",
    "# DRAW BOX PLOT\n",
    "# showmeans is to show mean value by using a symbol\n",
    "# meanproprs can be used to change the symbol for showmeans\n",
    "sns.set_style(style=\"whitegrid\")\n",
    "sns.boxplot(x=\"survived\", y=\"age\",\n",
    "            showmeans=True,\n",
    "            meanprops={\"marker\": \"+\",\n",
    "                        \"markersize\": \"12\",\n",
    "                        \"markeredgecolor\": \"red\"},\n",
    "                         data=kashti)\n",
    "# Show labels\n",
    "plt.xlabel(\"How many Survived\", size=14)\n",
    "plt.ylabel(\"Age(Years)\", size=14)\n",
    "# Adding titles\n",
    "plt.title(\"Box plot of Titanic Survived\", size=15, weight=\"bold\")\n",
    "\n",
    "# FACET GRID BOX PLOT\n",
    "g = sns.FacetGrid(kashti, col=\"survived\",  row=\"sex\")\n",
    "g.map(sns.boxplot, \"class\", \"age\")"
   ]
  },
  {
   "cell_type": "markdown",
   "metadata": {},
   "source": [
    "### Other plots"
   ]
  },
  {
   "cell_type": "code",
   "execution_count": null,
   "metadata": {},
   "outputs": [],
   "source": [
    "import seaborn as sns\n",
    "import matplotlib.pyplot as plt\n",
    "import pandas as pd\n",
    "import numpy as np\n",
    "\n",
    "dots = sns.load_dataset(\"dots\")\n",
    "\n",
    "# Set theme\n",
    "sns.set_style(style=\"ticks\")\n",
    "\n",
    "# # Define a color palette\n",
    "p = sns.color_palette(\"rocket_r\")\n",
    "\n",
    "# # DRAW RELPLOT\n",
    "sns.relplot(\n",
    "        data = dots,\n",
    "        x=\"time\", y=\"firing_rate\", hue=\"coherence\",\n",
    "        size=\"choice\", col=\"align\", kind=\"line\",\n",
    "        size_order=[\"T1\", \"T2\"], palette=p, height=5,\n",
    "        aspect=0.75, facet_kws=dict(sharex=False),\n",
    ")"
   ]
  },
  {
   "cell_type": "markdown",
   "metadata": {},
   "source": []
  },
  {
   "cell_type": "markdown",
   "metadata": {},
   "source": []
  }
 ],
 "metadata": {
  "interpreter": {
   "hash": "b3ba2566441a7c06988d0923437866b63cedc61552a5af99d1f4fb67d367b25f"
  },
  "kernelspec": {
   "display_name": "Python 3.8.12 ('base')",
   "language": "python",
   "name": "python3"
  },
  "language_info": {
   "codemirror_mode": {
    "name": "ipython",
    "version": 3
   },
   "file_extension": ".py",
   "mimetype": "text/x-python",
   "name": "python",
   "nbconvert_exporter": "python",
   "pygments_lexer": "ipython3",
   "version": "3.8.12"
  },
  "orig_nbformat": 4
 },
 "nbformat": 4,
 "nbformat_minor": 2
}
